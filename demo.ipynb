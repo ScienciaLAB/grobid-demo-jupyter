{
 "cells": [
  {
   "metadata": {},
   "cell_type": "markdown",
   "source": [
    "# Grobid demo\n",
    "\n",
    "## Content\n",
    "- Process via command line (batch mode)\n",
    "- Process programmatically (single PDF documents)\n",
    "- Extract coordinates programmatically\n",
    "\n",
    "\n"
   ],
   "id": "8a77807f92f26ee"
  },
  {
   "metadata": {
    "ExecuteTime": {
     "end_time": "2025-02-25T07:58:26.334970Z",
     "start_time": "2025-02-25T07:58:19.612787Z"
    }
   },
   "cell_type": "code",
   "source": "!pip install -U git+https://github.com/kermitt2/grobid_client_python",
   "id": "a8fdc845d2cd859a",
   "outputs": [
    {
     "name": "stdout",
     "output_type": "stream",
     "text": [
      "Collecting git+https://github.com/kermitt2/grobid_client_python\r\n",
      "  Cloning https://github.com/kermitt2/grobid_client_python to /private/var/folders/mk/scd8428n18jfgh3jdthbvpz00000gn/T/pip-req-build-f47yesj3\r\n",
      "  Running command git clone --filter=blob:none --quiet https://github.com/kermitt2/grobid_client_python /private/var/folders/mk/scd8428n18jfgh3jdthbvpz00000gn/T/pip-req-build-f47yesj3\r\n",
      "  Resolved https://github.com/kermitt2/grobid_client_python to commit 7232dcc4d9aa967aa3d7dda975df9e559210d814\r\n",
      "  Installing build dependencies ... \u001B[?25ldone\r\n",
      "\u001B[?25h  Getting requirements to build wheel ... \u001B[?25ldone\r\n",
      "\u001B[?25h  Preparing metadata (pyproject.toml) ... \u001B[?25ldone\r\n",
      "\u001B[?25hRequirement already satisfied: requests in /Users/lfoppiano/anaconda3/envs/jupyter/lib/python3.10/site-packages (from grobid-client-python==0.0.10.dev4+g7232dcc) (2.32.3)\r\n",
      "Requirement already satisfied: charset-normalizer<4,>=2 in /Users/lfoppiano/anaconda3/envs/jupyter/lib/python3.10/site-packages (from requests->grobid-client-python==0.0.10.dev4+g7232dcc) (3.3.2)\r\n",
      "Requirement already satisfied: idna<4,>=2.5 in /Users/lfoppiano/anaconda3/envs/jupyter/lib/python3.10/site-packages (from requests->grobid-client-python==0.0.10.dev4+g7232dcc) (3.7)\r\n",
      "Requirement already satisfied: urllib3<3,>=1.21.1 in /Users/lfoppiano/anaconda3/envs/jupyter/lib/python3.10/site-packages (from requests->grobid-client-python==0.0.10.dev4+g7232dcc) (2.2.2)\r\n",
      "Requirement already satisfied: certifi>=2017.4.17 in /Users/lfoppiano/anaconda3/envs/jupyter/lib/python3.10/site-packages (from requests->grobid-client-python==0.0.10.dev4+g7232dcc) (2025.1.31)\r\n"
     ]
    }
   ],
   "execution_count": 13
  },
  {
   "metadata": {},
   "cell_type": "markdown",
   "source": [
    "## Process a PDF file\n",
    "\n"
   ],
   "id": "a2e0ecff309d5fd3"
  },
  {
   "metadata": {},
   "cell_type": "markdown",
   "source": [
    "Process a PDF file can be done via command line or programmatically\n",
    "\n"
   ],
   "id": "40da80ef0d8bcd40"
  },
  {
   "metadata": {
    "ExecuteTime": {
     "end_time": "2025-02-25T08:00:16.368119Z",
     "start_time": "2025-02-25T08:00:16.001737Z"
    }
   },
   "cell_type": "code",
   "source": "!grobid_client --help",
   "id": "7563cbee7c69873d",
   "outputs": [
    {
     "name": "stdout",
     "output_type": "stream",
     "text": [
      "usage: grobid_client [-h] [--input INPUT] [--output OUTPUT] [--config CONFIG]\r\n",
      "                     [--n N] [--generateIDs] [--consolidate_header]\r\n",
      "                     [--consolidate_citations] [--include_raw_citations]\r\n",
      "                     [--include_raw_affiliations] [--force] [--teiCoordinates]\r\n",
      "                     [--segmentSentences] [--verbose] [--flavor FLAVOR]\r\n",
      "                     service\r\n",
      "\r\n",
      "Client for GROBID services\r\n",
      "\r\n",
      "positional arguments:\r\n",
      "  service               one of ['processFulltextDocumentBlank',\r\n",
      "                        'processFulltextDocument', 'processHeaderDocument',\r\n",
      "                        'processReferences', 'processCitationList',\r\n",
      "                        'processCitationPatentST36',\r\n",
      "                        'processCitationPatentPDF']\r\n",
      "\r\n",
      "options:\r\n",
      "  -h, --help            show this help message and exit\r\n",
      "  --input INPUT         path to the directory containing files to process: PDF\r\n",
      "                        or .txt (for processCitationList only, one reference\r\n",
      "                        per line), or .xml for patents in ST36\r\n",
      "  --output OUTPUT       path to the directory where to put the results\r\n",
      "                        (optional)\r\n",
      "  --config CONFIG       path to the config file, default is ./config.json\r\n",
      "  --n N                 concurrency for service usage\r\n",
      "  --generateIDs         generate random xml:id to textual XML elements of the\r\n",
      "                        result files\r\n",
      "  --consolidate_header  call GROBID with consolidation of the metadata\r\n",
      "                        extracted from the header\r\n",
      "  --consolidate_citations\r\n",
      "                        call GROBID with consolidation of the extracted\r\n",
      "                        bibliographical references\r\n",
      "  --include_raw_citations\r\n",
      "                        call GROBID requesting the extraction of raw citations\r\n",
      "  --include_raw_affiliations\r\n",
      "                        call GROBID requestiong the extraciton of raw\r\n",
      "                        affiliations\r\n",
      "  --force               force re-processing pdf input files when tei output\r\n",
      "                        files already exist\r\n",
      "  --teiCoordinates      add the original PDF coordinates (bounding boxes) to\r\n",
      "                        the extracted elements\r\n",
      "  --segmentSentences    segment sentences in the text content of the document\r\n",
      "                        with additional <s> elements\r\n",
      "  --verbose             print information about processed files in the console\r\n",
      "  --flavor FLAVOR       Define the flavor to be used for the fulltext\r\n",
      "                        extraction\r\n"
     ]
    }
   ],
   "execution_count": 14
  },
  {
   "metadata": {
    "ExecuteTime": {
     "end_time": "2025-02-25T08:00:17.942713Z",
     "start_time": "2025-02-25T08:00:17.940440Z"
    }
   },
   "cell_type": "code",
   "source": "",
   "id": "1ff127c9b8b9f367",
   "outputs": [],
   "execution_count": null
  },
  {
   "metadata": {
    "ExecuteTime": {
     "end_time": "2025-02-25T08:00:56.519131Z",
     "start_time": "2025-02-25T08:00:18.650218Z"
    }
   },
   "cell_type": "code",
   "source": "!grobid_client --input samples --output output/standard processFulltextDocument --verbose",
   "id": "155445ef152adaa9",
   "outputs": [
    {
     "name": "stdout",
     "output_type": "stream",
     "text": [
      "GROBID server is up and running\r\n",
      "error503_snapshot.pdf\r\n",
      "journal.pcbi.1011775.pdf\r\n",
      "PIIS0720048X22000304.pdf\r\n",
      "3 files to process in current batch\r\n",
      "Adding samples/letters/error503_snapshot.pdf to the queue.\r\n",
      "Adding samples/articles/journal.pcbi.1011775.pdf to the queue.\r\n",
      "Adding samples/erratum/PIIS0720048X22000304.pdf to the queue.\r\n",
      "runtime: 36.362 seconds \r\n"
     ]
    }
   ],
   "execution_count": 15
  },
  {
   "metadata": {
    "ExecuteTime": {
     "end_time": "2025-02-25T08:01:07.164390Z",
     "start_time": "2025-02-25T08:00:56.533111Z"
    }
   },
   "cell_type": "code",
   "source": "!grobid_client --input samples --output output/standard+coords processFulltextDocument --segmentSentences --generateIDs --teiCoordinates",
   "id": "501f6241401cb5bc",
   "outputs": [
    {
     "name": "stdout",
     "output_type": "stream",
     "text": [
      "GROBID server is up and running\r\n",
      "runtime: 9.217 seconds \r\n"
     ]
    }
   ],
   "execution_count": 16
  },
  {
   "metadata": {
    "ExecuteTime": {
     "end_time": "2025-02-25T08:03:19.977860Z",
     "start_time": "2025-02-25T08:03:18.514471Z"
    }
   },
   "cell_type": "code",
   "source": "!grobid_client --input samples --output output/light+coords processFulltextDocument --segmentSentences --generateIDs --teiCoordinates --flavor article/light-ref",
   "id": "f6878ff917a5e43f",
   "outputs": [
    {
     "name": "stdout",
     "output_type": "stream",
     "text": [
      "GROBID server is up and running\r\n",
      "output/light+coords/letters/error503_snapshot.grobid.tei.xml already exist, skipping... (use --force to reprocess pdf input files)\r\n",
      "output/light+coords/articles/journal.pcbi.1011775.grobid.tei.xml already exist, skipping... (use --force to reprocess pdf input files)\r\n",
      "output/light+coords/erratum/PIIS0720048X22000304.grobid.tei.xml already exist, skipping... (use --force to reprocess pdf input files)\r\n",
      "runtime: 0.006 seconds \r\n"
     ]
    }
   ],
   "execution_count": 19
  },
  {
   "metadata": {},
   "cell_type": "markdown",
   "source": "## Process programmatically",
   "id": "62d1d3b7969a1ade"
  },
  {
   "metadata": {
    "ExecuteTime": {
     "end_time": "2025-02-25T08:04:05.218241Z",
     "start_time": "2025-02-25T08:03:56.364862Z"
    }
   },
   "cell_type": "code",
   "source": [
    "from grobid_client.grobid_client import GrobidClient\n",
    "\n",
    "grobid_client = GrobidClient(\n",
    "    grobid_server=\"https://lfoppiano-grobid-dev.hf.space\",\n",
    "    batch_size=1000,\n",
    "    coordinates=[\"p\", \"s\", \"persName\", \"biblStruct\", \"figure\", \"formula\", \"head\", \"note\", \"title\", \"ref\", \"affiliation\"],\n",
    "    sleep_time=5,\n",
    "    timeout=240,\n",
    "    check_server=True\n",
    ")\n",
    "\n",
    "pdf_file, status, text = grobid_client.process_pdf(\n",
    "    \"processFulltextDocument\",\n",
    "    \"samples/articles/journal.pcbi.1011775.pdf\",\n",
    "    consolidate_header=True,\n",
    "    consolidate_citations=False,\n",
    "    segment_sentences=True,\n",
    "    tei_coordinates=True,\n",
    "    include_raw_citations=False,\n",
    "    include_raw_affiliations=False,\n",
    "    generateIDs=True\n",
    ")\n",
    "\n",
    "status, text[:1000]"
   ],
   "id": "444cc89b2c1aca8",
   "outputs": [
    {
     "name": "stdout",
     "output_type": "stream",
     "text": [
      "GROBID server is up and running\n"
     ]
    },
    {
     "data": {
      "text/plain": [
       "(200,\n",
       " '<?xml version=\"1.0\" encoding=\"UTF-8\"?>\\n<TEI xml:space=\"preserve\" xmlns=\"http://www.tei-c.org/ns/1.0\" \\nxmlns:xsi=\"http://www.w3.org/2001/XMLSchema-instance\" \\nxsi:schemaLocation=\"http://www.tei-c.org/ns/1.0 https://raw.githubusercontent.com/kermitt2/grobid/master/grobid-home/schemas/xsd/Grobid.xsd\"\\n xmlns:xlink=\"http://www.w3.org/1999/xlink\">\\n\\t<teiHeader xml:lang=\"en\">\\n\\t\\t<fileDesc>\\n\\t\\t\\t<titleStmt>\\n\\t\\t\\t\\t<title level=\"a\" type=\"main\" xml:id=\"_Vv6KduP\" coords=\"1,200.01,111.81,317.08,15.30;1,200.01,134.32,343.79,15.30;1,200.01,156.83,67.87,15.30\">Inferring country-specific import risk of diseases from the world air transportation network</title>\\n\\t\\t\\t\\t<funder ref=\"#_xqahcry\">\\n\\t\\t\\t\\t\\t<orgName type=\"full\">Carlsberg Foundation</orgName>\\n\\t\\t\\t\\t</funder>\\n\\t\\t\\t\\t<funder ref=\"#_g2zgeJm\">\\n\\t\\t\\t\\t\\t<orgName type=\"full\">Joachim Herz Stiftung</orgName>\\n\\t\\t\\t\\t</funder>\\n\\t\\t\\t\\t<funder>\\n\\t\\t\\t\\t\\t<orgName type=\"full\">Germany&apos;s Federal Ministry of Health</orgName>\\n\\t\\t\\t\\t</funder>\\n\\t\\t\\t</titleStmt>\\n\\t\\t\\t<publicationStmt>\\n\\t\\t\\t\\t<publish')"
      ]
     },
     "execution_count": 20,
     "metadata": {},
     "output_type": "execute_result"
    }
   ],
   "execution_count": 20
  },
  {
   "metadata": {},
   "cell_type": "code",
   "source": [
    "from bs4 import BeautifulSoup\n",
    "\n",
    "COLORS = {\n",
    "    \"persName\": \"rgba(0, 0, 255, 1)\",  # Blue\n",
    "    \"s\": \"rgba(0, 128, 0, 1)\",  # Green\n",
    "    \"p\": \"rgba(0, 100, 0, 1)\",  # Dark Green\n",
    "    \"ref\": \"rgba(255, 255, 0, 1)\",  # ??\n",
    "    \"biblStruct\": \"rgba(139, 0, 0, 1)\",  # Dark Red\n",
    "    \"head\": \"rgba(139, 139, 0, 1)\",  # Dark Yellow\n",
    "    \"formula\": \"rgba(255, 165, 0, 1)\",  # Orange\n",
    "    \"figure\": \"rgba(165, 42, 42, 1)\",  # Brown\n",
    "    \"title\": \"rgba(255, 0, 0, 1)\",  # Red\n",
    "    \"affiliation\": \"rgba(255, 165, 0, 1)\"  # red-orengi\n",
    "}\n",
    "\n",
    "\n",
    "def get_color(name, param):\n",
    "    color = COLORS[name] if name in COLORS else \"rgba(128, 128, 128, 1.0)\"\n",
    "    if param:\n",
    "        color = color.replace(\"1)\", \"0.4)\")\n",
    "\n",
    "    return color\n",
    "\n",
    "\n",
    "class GrobidProcessor:\n",
    "    def __init__(self, grobid_client):\n",
    "        self.grobid_client = grobid_client\n",
    "\n",
    "    def process_structure(self, input_path) -> (dict, int):\n",
    "        pdf_file, status, text = self.grobid_client.process_pdf(\n",
    "            \"processFulltextDocument\",\n",
    "            input_path,\n",
    "            consolidate_header=True,\n",
    "            consolidate_citations=False,\n",
    "            segment_sentences=True,\n",
    "            tei_coordinates=True,\n",
    "            include_raw_citations=False,\n",
    "            include_raw_affiliations=False,\n",
    "            generateIDs=True\n",
    "        )\n",
    "\n",
    "        if status != 200:\n",
    "            return\n",
    "\n",
    "        coordinates = self.get_coordinates(text)\n",
    "        pages = self.get_pages(text)\n",
    "\n",
    "        return coordinates, len(pages)\n",
    "\n",
    "    @staticmethod\n",
    "    def box_to_dict(box, color=None, type=None):\n",
    "\n",
    "        item = {\"page\": box[0], \"x\": box[1], \"y\": box[2], \"width\": box[3], \"height\": box[4]}\n",
    "        if color is not None:\n",
    "            item['color'] = color\n",
    "\n",
    "        if type:\n",
    "            item['type'] = type\n",
    "\n",
    "        return item\n",
    "\n",
    "    def get_coordinates(self, text):\n",
    "        soup = BeautifulSoup(text, 'xml')\n",
    "        all_blocks_with_coordinates = soup.find_all(coords=True)\n",
    "\n",
    "        # if use_sentences:\n",
    "        #     all_blocks_with_coordinates = filter(lambda b: b.name != \"p\", all_blocks_with_coordinates)\n",
    "\n",
    "        coordinates = []\n",
    "        count = 0\n",
    "        for block_id, block in enumerate(all_blocks_with_coordinates):\n",
    "            for box in filter(lambda c: len(c) > 0 and c[0] != \"\", block['coords'].split(\";\")):\n",
    "                coordinates.append(\n",
    "                    self.box_to_dict(\n",
    "                        box.split(\",\"),\n",
    "                        get_color(block.name, count % 2 == 0),\n",
    "                        type=block.name\n",
    "                    ),\n",
    "                )\n",
    "            count += 1\n",
    "        return coordinates\n",
    "\n",
    "    def get_pages(self, text):\n",
    "        soup = BeautifulSoup(text, 'xml')\n",
    "        pages_infos = soup.find_all(\"surface\")\n",
    "\n",
    "        pages = [{'width': float(page['lrx']) - float(page['ulx']), 'height': float(page['lry']) - float(page['uly'])}\n",
    "                 for page in pages_infos]\n",
    "\n",
    "        return pages\n",
    "\n"
   ],
   "id": "f028fa26d183642e",
   "outputs": [],
   "execution_count": null
  },
  {
   "metadata": {},
   "cell_type": "code",
   "source": [
    "processor = GrobidProcessor(grobid_client)\n",
    "\n",
    "coordinates, page_lenghts = processor.process_structure(\"samples/articles/journal.pcbi.1011775.pdf\")"
   ],
   "id": "b45ff77e98eaaefe",
   "outputs": [],
   "execution_count": null
  },
  {
   "metadata": {},
   "cell_type": "code",
   "source": "processor.get_coordinates(text)",
   "id": "53997ff09a4cfbb8",
   "outputs": [],
   "execution_count": null
  },
  {
   "metadata": {},
   "cell_type": "code",
   "outputs": [],
   "execution_count": null,
   "source": "",
   "id": "f34586eed25389e1"
  }
 ],
 "metadata": {
  "kernelspec": {
   "display_name": "Python 3",
   "language": "python",
   "name": "python3"
  },
  "language_info": {
   "codemirror_mode": {
    "name": "ipython",
    "version": 2
   },
   "file_extension": ".py",
   "mimetype": "text/x-python",
   "name": "python",
   "nbconvert_exporter": "python",
   "pygments_lexer": "ipython2",
   "version": "2.7.6"
  }
 },
 "nbformat": 4,
 "nbformat_minor": 5
}
